{
 "cells": [
  {
   "cell_type": "markdown",
   "metadata": {},
   "source": [
    "<h1>18BCS6212<h1>\n",
    "    <h2>Assignment-1<h2>\n",
    "        <h2>Step1: Reading and Understanding data.<h2>"
   ]
  },
  {
   "cell_type": "code",
   "execution_count": 1,
   "metadata": {},
   "outputs": [],
   "source": [
    "import warnings\n",
    "warnings.filterwarnings('ignore')"
   ]
  },
  {
   "cell_type": "code",
   "execution_count": 2,
   "metadata": {},
   "outputs": [],
   "source": [
    "#Importing necessary libraries\n",
    "import numpy as np\n",
    "import pandas as pd\n",
    "import matplotlib.pyplot as plt\n",
    "import seaborn as sns\n",
    "from scipy import stats\n",
    "from functools import reduce"
   ]
  },
  {
   "cell_type": "code",
   "execution_count": 3,
   "metadata": {},
   "outputs": [],
   "source": [
    "#Importing all the csv files.\n",
    "\n",
    "cars_trucks1 = pd.read_csv(r'C:\\Users\\lenovo\\Downloads\\co2_prediction\\cars_trucks_and_buses_per_1000_persons.csv', encoding = 'ISO-8859-1')\n",
    "co2_emissions1 = pd.read_csv(r'C:\\Users\\lenovo\\Downloads\\co2_prediction\\co2_emissions_tonnes_per_person.csv', encoding = 'ISO-8859-1')\n",
    "coal_consumption1 = pd.read_csv(r'C:\\Users\\lenovo\\Downloads\\co2_prediction\\coal_consumption_per_cap.csv', encoding = 'ISO-8859-1')\n",
    "electricity_generation1 = pd.read_csv(r'C:\\Users\\lenovo\\Downloads\\co2_prediction\\electricity_generation_per_person.csv', encoding = 'ISO-8859-1')\n",
    "electricity_use1 = pd.read_csv(r'C:\\Users\\lenovo\\Downloads\\co2_prediction\\electricity_use_per_person.csv', encoding = 'ISO-8859-1')\n",
    "forest_coverage1 = pd.read_csv(r'C:\\Users\\lenovo\\Downloads\\co2_prediction\\forest_coverage_percent.csv', encoding = 'ISO-8859-1')\n",
    "hydro_power1 = pd.read_csv(r'C:\\Users\\lenovo\\Downloads\\co2_prediction\\hydro_power_generation_per_person.csv', encoding = 'ISO-8859-1')\n",
    "income1 = pd.read_csv(r'C:\\Users\\lenovo\\Downloads\\co2_prediction\\income_per_person_gdppercapita_ppp_inflation_adjusted.csv', encoding = 'ISO-8859-1')\n",
    "industry1 = pd.read_csv(r'C:\\Users\\lenovo\\Downloads\\co2_prediction\\industry_percent_of_gdp.csv', encoding = 'ISO-8859-1')\n",
    "natural1 = pd.read_csv(r'C:\\Users\\lenovo\\Downloads\\co2_prediction\\natural_gas_production_per_person.csv', encoding = 'ISO-8859-1')\n",
    "oil_consumption1 = pd.read_csv(r'C:\\Users\\lenovo\\Downloads\\co2_prediction\\oil_consumption_per_cap.csv', encoding = 'ISO-8859-1')\n",
    "oil_production1 = pd.read_csv(r'C:\\Users\\lenovo\\Downloads\\co2_prediction\\oil_production_per_person.csv', encoding = 'ISO-8859-1')\n",
    "yearly_emissions1 = pd.read_csv(r'C:\\Users\\lenovo\\Downloads\\co2_prediction\\yearly_co2_emissions_1000_tonnes.csv', encoding = 'ISO-8859-1')"
   ]
  },
  {
   "cell_type": "markdown",
   "metadata": {},
   "source": [
    "<h2>Step2: Extracting 'geo' and '2014' columns.<h2>"
   ]
  },
  {
   "cell_type": "code",
   "execution_count": 4,
   "metadata": {},
   "outputs": [
    {
     "data": {
      "text/html": [
       "<div>\n",
       "<style scoped>\n",
       "    .dataframe tbody tr th:only-of-type {\n",
       "        vertical-align: middle;\n",
       "    }\n",
       "\n",
       "    .dataframe tbody tr th {\n",
       "        vertical-align: top;\n",
       "    }\n",
       "\n",
       "    .dataframe thead th {\n",
       "        text-align: right;\n",
       "    }\n",
       "</style>\n",
       "<table border=\"1\" class=\"dataframe\">\n",
       "  <thead>\n",
       "    <tr style=\"text-align: right;\">\n",
       "      <th></th>\n",
       "      <th>geo</th>\n",
       "      <th>2002</th>\n",
       "      <th>2003</th>\n",
       "      <th>2004</th>\n",
       "      <th>2005</th>\n",
       "      <th>2006</th>\n",
       "      <th>2007</th>\n",
       "    </tr>\n",
       "  </thead>\n",
       "  <tbody>\n",
       "    <tr>\n",
       "      <td>0</td>\n",
       "      <td>Afghanistan</td>\n",
       "      <td>NaN</td>\n",
       "      <td>NaN</td>\n",
       "      <td>NaN</td>\n",
       "      <td>NaN</td>\n",
       "      <td>NaN</td>\n",
       "      <td>22.8</td>\n",
       "    </tr>\n",
       "    <tr>\n",
       "      <td>1</td>\n",
       "      <td>Albania</td>\n",
       "      <td>73.0</td>\n",
       "      <td>NaN</td>\n",
       "      <td>85.0</td>\n",
       "      <td>87.5</td>\n",
       "      <td>97.3</td>\n",
       "      <td>102.0</td>\n",
       "    </tr>\n",
       "    <tr>\n",
       "      <td>2</td>\n",
       "      <td>Algeria</td>\n",
       "      <td>NaN</td>\n",
       "      <td>88.0</td>\n",
       "      <td>89.0</td>\n",
       "      <td>91.0</td>\n",
       "      <td>NaN</td>\n",
       "      <td>NaN</td>\n",
       "    </tr>\n",
       "    <tr>\n",
       "      <td>3</td>\n",
       "      <td>Angola</td>\n",
       "      <td>NaN</td>\n",
       "      <td>NaN</td>\n",
       "      <td>NaN</td>\n",
       "      <td>NaN</td>\n",
       "      <td>NaN</td>\n",
       "      <td>39.6</td>\n",
       "    </tr>\n",
       "    <tr>\n",
       "      <td>4</td>\n",
       "      <td>Argentina</td>\n",
       "      <td>NaN</td>\n",
       "      <td>NaN</td>\n",
       "      <td>NaN</td>\n",
       "      <td>NaN</td>\n",
       "      <td>NaN</td>\n",
       "      <td>314.0</td>\n",
       "    </tr>\n",
       "  </tbody>\n",
       "</table>\n",
       "</div>"
      ],
      "text/plain": [
       "           geo  2002  2003  2004  2005  2006   2007\n",
       "0  Afghanistan   NaN   NaN   NaN   NaN   NaN   22.8\n",
       "1      Albania  73.0   NaN  85.0  87.5  97.3  102.0\n",
       "2      Algeria   NaN  88.0  89.0  91.0   NaN    NaN\n",
       "3       Angola   NaN   NaN   NaN   NaN   NaN   39.6\n",
       "4    Argentina   NaN   NaN   NaN   NaN   NaN  314.0"
      ]
     },
     "execution_count": 4,
     "metadata": {},
     "output_type": "execute_result"
    }
   ],
   "source": [
    "cars_trucks1.head()"
   ]
  },
  {
   "cell_type": "markdown",
   "metadata": {},
   "source": [
    "<h3>As cars_trucks1 doesn't have 2014 column so we have to drop this column.<h3>"
   ]
  },
  {
   "cell_type": "code",
   "execution_count": 5,
   "metadata": {},
   "outputs": [
    {
     "data": {
      "text/html": [
       "<div>\n",
       "<style scoped>\n",
       "    .dataframe tbody tr th:only-of-type {\n",
       "        vertical-align: middle;\n",
       "    }\n",
       "\n",
       "    .dataframe tbody tr th {\n",
       "        vertical-align: top;\n",
       "    }\n",
       "\n",
       "    .dataframe thead th {\n",
       "        text-align: right;\n",
       "    }\n",
       "</style>\n",
       "<table border=\"1\" class=\"dataframe\">\n",
       "  <thead>\n",
       "    <tr style=\"text-align: right;\">\n",
       "      <th></th>\n",
       "      <th>geo</th>\n",
       "      <th>1800</th>\n",
       "      <th>1801</th>\n",
       "      <th>1802</th>\n",
       "      <th>1803</th>\n",
       "      <th>1804</th>\n",
       "      <th>1805</th>\n",
       "      <th>1806</th>\n",
       "      <th>1807</th>\n",
       "      <th>1808</th>\n",
       "      <th>...</th>\n",
       "      <th>2005</th>\n",
       "      <th>2006</th>\n",
       "      <th>2007</th>\n",
       "      <th>2008</th>\n",
       "      <th>2009</th>\n",
       "      <th>2010</th>\n",
       "      <th>2011</th>\n",
       "      <th>2012</th>\n",
       "      <th>2013</th>\n",
       "      <th>2014</th>\n",
       "    </tr>\n",
       "  </thead>\n",
       "  <tbody>\n",
       "    <tr>\n",
       "      <td>0</td>\n",
       "      <td>Afghanistan</td>\n",
       "      <td>NaN</td>\n",
       "      <td>NaN</td>\n",
       "      <td>NaN</td>\n",
       "      <td>NaN</td>\n",
       "      <td>NaN</td>\n",
       "      <td>NaN</td>\n",
       "      <td>NaN</td>\n",
       "      <td>NaN</td>\n",
       "      <td>NaN</td>\n",
       "      <td>...</td>\n",
       "      <td>0.0529</td>\n",
       "      <td>0.0637</td>\n",
       "      <td>0.0854</td>\n",
       "      <td>0.154</td>\n",
       "      <td>0.242</td>\n",
       "      <td>0.294</td>\n",
       "      <td>0.412</td>\n",
       "      <td>0.35</td>\n",
       "      <td>0.316</td>\n",
       "      <td>0.299</td>\n",
       "    </tr>\n",
       "    <tr>\n",
       "      <td>1</td>\n",
       "      <td>Albania</td>\n",
       "      <td>NaN</td>\n",
       "      <td>NaN</td>\n",
       "      <td>NaN</td>\n",
       "      <td>NaN</td>\n",
       "      <td>NaN</td>\n",
       "      <td>NaN</td>\n",
       "      <td>NaN</td>\n",
       "      <td>NaN</td>\n",
       "      <td>NaN</td>\n",
       "      <td>...</td>\n",
       "      <td>1.3800</td>\n",
       "      <td>1.2800</td>\n",
       "      <td>1.3000</td>\n",
       "      <td>1.460</td>\n",
       "      <td>1.480</td>\n",
       "      <td>1.560</td>\n",
       "      <td>1.790</td>\n",
       "      <td>1.68</td>\n",
       "      <td>1.730</td>\n",
       "      <td>1.960</td>\n",
       "    </tr>\n",
       "    <tr>\n",
       "      <td>2</td>\n",
       "      <td>Algeria</td>\n",
       "      <td>NaN</td>\n",
       "      <td>NaN</td>\n",
       "      <td>NaN</td>\n",
       "      <td>NaN</td>\n",
       "      <td>NaN</td>\n",
       "      <td>NaN</td>\n",
       "      <td>NaN</td>\n",
       "      <td>NaN</td>\n",
       "      <td>NaN</td>\n",
       "      <td>...</td>\n",
       "      <td>3.2200</td>\n",
       "      <td>2.9900</td>\n",
       "      <td>3.1900</td>\n",
       "      <td>3.160</td>\n",
       "      <td>3.420</td>\n",
       "      <td>3.300</td>\n",
       "      <td>3.290</td>\n",
       "      <td>3.46</td>\n",
       "      <td>3.510</td>\n",
       "      <td>3.720</td>\n",
       "    </tr>\n",
       "    <tr>\n",
       "      <td>3</td>\n",
       "      <td>Andorra</td>\n",
       "      <td>NaN</td>\n",
       "      <td>NaN</td>\n",
       "      <td>NaN</td>\n",
       "      <td>NaN</td>\n",
       "      <td>NaN</td>\n",
       "      <td>NaN</td>\n",
       "      <td>NaN</td>\n",
       "      <td>NaN</td>\n",
       "      <td>NaN</td>\n",
       "      <td>...</td>\n",
       "      <td>7.3000</td>\n",
       "      <td>6.7500</td>\n",
       "      <td>6.5200</td>\n",
       "      <td>6.430</td>\n",
       "      <td>6.120</td>\n",
       "      <td>6.120</td>\n",
       "      <td>5.870</td>\n",
       "      <td>5.92</td>\n",
       "      <td>5.900</td>\n",
       "      <td>5.830</td>\n",
       "    </tr>\n",
       "    <tr>\n",
       "      <td>4</td>\n",
       "      <td>Angola</td>\n",
       "      <td>NaN</td>\n",
       "      <td>NaN</td>\n",
       "      <td>NaN</td>\n",
       "      <td>NaN</td>\n",
       "      <td>NaN</td>\n",
       "      <td>NaN</td>\n",
       "      <td>NaN</td>\n",
       "      <td>NaN</td>\n",
       "      <td>NaN</td>\n",
       "      <td>...</td>\n",
       "      <td>0.9800</td>\n",
       "      <td>1.1000</td>\n",
       "      <td>1.2000</td>\n",
       "      <td>1.180</td>\n",
       "      <td>1.230</td>\n",
       "      <td>1.240</td>\n",
       "      <td>1.250</td>\n",
       "      <td>1.33</td>\n",
       "      <td>1.250</td>\n",
       "      <td>1.290</td>\n",
       "    </tr>\n",
       "  </tbody>\n",
       "</table>\n",
       "<p>5 rows × 216 columns</p>\n",
       "</div>"
      ],
      "text/plain": [
       "           geo  1800  1801  1802  1803  1804  1805  1806  1807  1808  ...  \\\n",
       "0  Afghanistan   NaN   NaN   NaN   NaN   NaN   NaN   NaN   NaN   NaN  ...   \n",
       "1      Albania   NaN   NaN   NaN   NaN   NaN   NaN   NaN   NaN   NaN  ...   \n",
       "2      Algeria   NaN   NaN   NaN   NaN   NaN   NaN   NaN   NaN   NaN  ...   \n",
       "3      Andorra   NaN   NaN   NaN   NaN   NaN   NaN   NaN   NaN   NaN  ...   \n",
       "4       Angola   NaN   NaN   NaN   NaN   NaN   NaN   NaN   NaN   NaN  ...   \n",
       "\n",
       "     2005    2006    2007   2008   2009   2010   2011  2012   2013   2014  \n",
       "0  0.0529  0.0637  0.0854  0.154  0.242  0.294  0.412  0.35  0.316  0.299  \n",
       "1  1.3800  1.2800  1.3000  1.460  1.480  1.560  1.790  1.68  1.730  1.960  \n",
       "2  3.2200  2.9900  3.1900  3.160  3.420  3.300  3.290  3.46  3.510  3.720  \n",
       "3  7.3000  6.7500  6.5200  6.430  6.120  6.120  5.870  5.92  5.900  5.830  \n",
       "4  0.9800  1.1000  1.2000  1.180  1.230  1.240  1.250  1.33  1.250  1.290  \n",
       "\n",
       "[5 rows x 216 columns]"
      ]
     },
     "execution_count": 5,
     "metadata": {},
     "output_type": "execute_result"
    }
   ],
   "source": [
    "co2_emissions1.head()"
   ]
  },
  {
   "cell_type": "code",
   "execution_count": 6,
   "metadata": {},
   "outputs": [],
   "source": [
    "#Adding geo and 2014 columns to co2_emissions dataframe and rrenaming column 2014.\n",
    "\n",
    "co2_emissions = co2_emissions1[['geo','2014']]\n",
    "co2_emissions.rename(columns = {'2014': 'co2_emissions'}, inplace = True)\n"
   ]
  },
  {
   "cell_type": "code",
   "execution_count": 7,
   "metadata": {},
   "outputs": [
    {
     "data": {
      "text/html": [
       "<div>\n",
       "<style scoped>\n",
       "    .dataframe tbody tr th:only-of-type {\n",
       "        vertical-align: middle;\n",
       "    }\n",
       "\n",
       "    .dataframe tbody tr th {\n",
       "        vertical-align: top;\n",
       "    }\n",
       "\n",
       "    .dataframe thead th {\n",
       "        text-align: right;\n",
       "    }\n",
       "</style>\n",
       "<table border=\"1\" class=\"dataframe\">\n",
       "  <thead>\n",
       "    <tr style=\"text-align: right;\">\n",
       "      <th></th>\n",
       "      <th>geo</th>\n",
       "      <th>1965</th>\n",
       "      <th>1966</th>\n",
       "      <th>1967</th>\n",
       "      <th>1968</th>\n",
       "      <th>1969</th>\n",
       "      <th>1970</th>\n",
       "      <th>1971</th>\n",
       "      <th>1972</th>\n",
       "      <th>1973</th>\n",
       "      <th>...</th>\n",
       "      <th>2007</th>\n",
       "      <th>2008</th>\n",
       "      <th>2009</th>\n",
       "      <th>2010</th>\n",
       "      <th>2011</th>\n",
       "      <th>2012</th>\n",
       "      <th>2013</th>\n",
       "      <th>2014</th>\n",
       "      <th>2015</th>\n",
       "      <th>2016</th>\n",
       "    </tr>\n",
       "  </thead>\n",
       "  <tbody>\n",
       "    <tr>\n",
       "      <td>0</td>\n",
       "      <td>Algeria</td>\n",
       "      <td>0.00554</td>\n",
       "      <td>0.00524</td>\n",
       "      <td>0.00389</td>\n",
       "      <td>0.0040</td>\n",
       "      <td>0.00495</td>\n",
       "      <td>0.0057</td>\n",
       "      <td>0.00154</td>\n",
       "      <td>0.0013</td>\n",
       "      <td>0.00146</td>\n",
       "      <td>...</td>\n",
       "      <td>0.02210</td>\n",
       "      <td>0.02170</td>\n",
       "      <td>0.01370</td>\n",
       "      <td>0.00858</td>\n",
       "      <td>0.00747</td>\n",
       "      <td>0.00777</td>\n",
       "      <td>0.00412</td>\n",
       "      <td>0.00458</td>\n",
       "      <td>0.00361</td>\n",
       "      <td>0.00356</td>\n",
       "    </tr>\n",
       "    <tr>\n",
       "      <td>1</td>\n",
       "      <td>Argentina</td>\n",
       "      <td>0.03570</td>\n",
       "      <td>0.03690</td>\n",
       "      <td>0.03560</td>\n",
       "      <td>0.0282</td>\n",
       "      <td>0.03710</td>\n",
       "      <td>0.0409</td>\n",
       "      <td>0.03310</td>\n",
       "      <td>0.0291</td>\n",
       "      <td>0.03010</td>\n",
       "      <td>...</td>\n",
       "      <td>0.03050</td>\n",
       "      <td>0.03450</td>\n",
       "      <td>0.02340</td>\n",
       "      <td>0.03080</td>\n",
       "      <td>0.03720</td>\n",
       "      <td>0.03110</td>\n",
       "      <td>0.02950</td>\n",
       "      <td>0.03460</td>\n",
       "      <td>0.03130</td>\n",
       "      <td>0.02410</td>\n",
       "    </tr>\n",
       "    <tr>\n",
       "      <td>2</td>\n",
       "      <td>Australia</td>\n",
       "      <td>1.53000</td>\n",
       "      <td>1.55000</td>\n",
       "      <td>1.55000</td>\n",
       "      <td>1.5500</td>\n",
       "      <td>1.57000</td>\n",
       "      <td>1.5500</td>\n",
       "      <td>1.53000</td>\n",
       "      <td>1.5700</td>\n",
       "      <td>1.61000</td>\n",
       "      <td>...</td>\n",
       "      <td>2.51000</td>\n",
       "      <td>2.57000</td>\n",
       "      <td>2.44000</td>\n",
       "      <td>2.23000</td>\n",
       "      <td>2.14000</td>\n",
       "      <td>1.98000</td>\n",
       "      <td>1.86000</td>\n",
       "      <td>1.82000</td>\n",
       "      <td>1.85000</td>\n",
       "      <td>1.82000</td>\n",
       "    </tr>\n",
       "    <tr>\n",
       "      <td>3</td>\n",
       "      <td>Austria</td>\n",
       "      <td>0.69600</td>\n",
       "      <td>0.66000</td>\n",
       "      <td>0.62100</td>\n",
       "      <td>0.6100</td>\n",
       "      <td>0.59700</td>\n",
       "      <td>0.6390</td>\n",
       "      <td>0.58300</td>\n",
       "      <td>0.5270</td>\n",
       "      <td>0.52200</td>\n",
       "      <td>...</td>\n",
       "      <td>0.47000</td>\n",
       "      <td>0.45000</td>\n",
       "      <td>0.34400</td>\n",
       "      <td>0.40200</td>\n",
       "      <td>0.41000</td>\n",
       "      <td>0.37900</td>\n",
       "      <td>0.38200</td>\n",
       "      <td>0.34700</td>\n",
       "      <td>0.37300</td>\n",
       "      <td>0.36400</td>\n",
       "    </tr>\n",
       "    <tr>\n",
       "      <td>4</td>\n",
       "      <td>Azerbaijan</td>\n",
       "      <td>NaN</td>\n",
       "      <td>NaN</td>\n",
       "      <td>NaN</td>\n",
       "      <td>NaN</td>\n",
       "      <td>NaN</td>\n",
       "      <td>NaN</td>\n",
       "      <td>NaN</td>\n",
       "      <td>NaN</td>\n",
       "      <td>NaN</td>\n",
       "      <td>...</td>\n",
       "      <td>0.00014</td>\n",
       "      <td>0.00079</td>\n",
       "      <td>0.00046</td>\n",
       "      <td>0.00006</td>\n",
       "      <td>0.00038</td>\n",
       "      <td>0.00006</td>\n",
       "      <td>0.00031</td>\n",
       "      <td>0.00017</td>\n",
       "      <td>0.00004</td>\n",
       "      <td>0.00004</td>\n",
       "    </tr>\n",
       "  </tbody>\n",
       "</table>\n",
       "<p>5 rows × 53 columns</p>\n",
       "</div>"
      ],
      "text/plain": [
       "          geo     1965     1966     1967    1968     1969    1970     1971  \\\n",
       "0     Algeria  0.00554  0.00524  0.00389  0.0040  0.00495  0.0057  0.00154   \n",
       "1   Argentina  0.03570  0.03690  0.03560  0.0282  0.03710  0.0409  0.03310   \n",
       "2   Australia  1.53000  1.55000  1.55000  1.5500  1.57000  1.5500  1.53000   \n",
       "3     Austria  0.69600  0.66000  0.62100  0.6100  0.59700  0.6390  0.58300   \n",
       "4  Azerbaijan      NaN      NaN      NaN     NaN      NaN     NaN      NaN   \n",
       "\n",
       "     1972     1973  ...     2007     2008     2009     2010     2011     2012  \\\n",
       "0  0.0013  0.00146  ...  0.02210  0.02170  0.01370  0.00858  0.00747  0.00777   \n",
       "1  0.0291  0.03010  ...  0.03050  0.03450  0.02340  0.03080  0.03720  0.03110   \n",
       "2  1.5700  1.61000  ...  2.51000  2.57000  2.44000  2.23000  2.14000  1.98000   \n",
       "3  0.5270  0.52200  ...  0.47000  0.45000  0.34400  0.40200  0.41000  0.37900   \n",
       "4     NaN      NaN  ...  0.00014  0.00079  0.00046  0.00006  0.00038  0.00006   \n",
       "\n",
       "      2013     2014     2015     2016  \n",
       "0  0.00412  0.00458  0.00361  0.00356  \n",
       "1  0.02950  0.03460  0.03130  0.02410  \n",
       "2  1.86000  1.82000  1.85000  1.82000  \n",
       "3  0.38200  0.34700  0.37300  0.36400  \n",
       "4  0.00031  0.00017  0.00004  0.00004  \n",
       "\n",
       "[5 rows x 53 columns]"
      ]
     },
     "execution_count": 7,
     "metadata": {},
     "output_type": "execute_result"
    }
   ],
   "source": [
    "coal_consumption1.head()"
   ]
  },
  {
   "cell_type": "code",
   "execution_count": 8,
   "metadata": {},
   "outputs": [],
   "source": [
    "#Adding geo and 2014 columns to coal_consumption dataframe and renaming column 2014.\n",
    "\n",
    "coal_consumption = coal_consumption1[['geo','2014']]\n",
    "coal_consumption.rename(columns = {'2014':'coal_consumption'}, inplace = True)\n"
   ]
  },
  {
   "cell_type": "code",
   "execution_count": 9,
   "metadata": {},
   "outputs": [],
   "source": [
    "#Adding geo and 2014 columns to electricity_generation dataframe and renaming column 2014.\n",
    "\n",
    "electricity_generation = electricity_generation1[['geo','2014']]\n",
    "electricity_generation.rename(columns = {'2014': 'electricity_generation'}, inplace = True)\n"
   ]
  },
  {
   "cell_type": "code",
   "execution_count": 10,
   "metadata": {},
   "outputs": [],
   "source": [
    "#Adding geo and 2014 columns to electricity_use dataframe and renaming column 2014.\n",
    "\n",
    "electricity_use = electricity_use1[['geo','2014']]\n",
    "electricity_use.rename(columns = {'2014': 'electricity_use'}, inplace = True)\n"
   ]
  },
  {
   "cell_type": "code",
   "execution_count": 11,
   "metadata": {},
   "outputs": [],
   "source": [
    "#Adding geo and 2014 columns to forest_coverage dataframe and renaming column 2014.\n",
    "\n",
    "forest_coverage = forest_coverage1[['geo','2014']]\n",
    "forest_coverage.rename(columns = {'2014': 'forest_coverage'}, inplace = True)\n"
   ]
  },
  {
   "cell_type": "code",
   "execution_count": 12,
   "metadata": {},
   "outputs": [
    {
     "data": {
      "text/html": [
       "<div>\n",
       "<style scoped>\n",
       "    .dataframe tbody tr th:only-of-type {\n",
       "        vertical-align: middle;\n",
       "    }\n",
       "\n",
       "    .dataframe tbody tr th {\n",
       "        vertical-align: top;\n",
       "    }\n",
       "\n",
       "    .dataframe thead th {\n",
       "        text-align: right;\n",
       "    }\n",
       "</style>\n",
       "<table border=\"1\" class=\"dataframe\">\n",
       "  <thead>\n",
       "    <tr style=\"text-align: right;\">\n",
       "      <th></th>\n",
       "      <th>geo</th>\n",
       "      <th>1960</th>\n",
       "      <th>1961</th>\n",
       "      <th>1962</th>\n",
       "      <th>1963</th>\n",
       "      <th>1964</th>\n",
       "      <th>1965</th>\n",
       "      <th>1966</th>\n",
       "      <th>1967</th>\n",
       "      <th>1968</th>\n",
       "      <th>...</th>\n",
       "      <th>2002</th>\n",
       "      <th>2003</th>\n",
       "      <th>2004</th>\n",
       "      <th>2005</th>\n",
       "      <th>2006</th>\n",
       "      <th>2007</th>\n",
       "      <th>2008</th>\n",
       "      <th>2009</th>\n",
       "      <th>2010</th>\n",
       "      <th>2011</th>\n",
       "    </tr>\n",
       "  </thead>\n",
       "  <tbody>\n",
       "    <tr>\n",
       "      <td>0</td>\n",
       "      <td>Albania</td>\n",
       "      <td>NaN</td>\n",
       "      <td>NaN</td>\n",
       "      <td>NaN</td>\n",
       "      <td>NaN</td>\n",
       "      <td>NaN</td>\n",
       "      <td>NaN</td>\n",
       "      <td>NaN</td>\n",
       "      <td>NaN</td>\n",
       "      <td>NaN</td>\n",
       "      <td>...</td>\n",
       "      <td>0.09770</td>\n",
       "      <td>0.13500</td>\n",
       "      <td>0.15000</td>\n",
       "      <td>0.14700</td>\n",
       "      <td>0.14800</td>\n",
       "      <td>0.07560</td>\n",
       "      <td>0.10300</td>\n",
       "      <td>0.14000</td>\n",
       "      <td>0.20300</td>\n",
       "      <td>NaN</td>\n",
       "    </tr>\n",
       "    <tr>\n",
       "      <td>1</td>\n",
       "      <td>Algeria</td>\n",
       "      <td>NaN</td>\n",
       "      <td>NaN</td>\n",
       "      <td>NaN</td>\n",
       "      <td>NaN</td>\n",
       "      <td>NaN</td>\n",
       "      <td>NaN</td>\n",
       "      <td>NaN</td>\n",
       "      <td>NaN</td>\n",
       "      <td>NaN</td>\n",
       "      <td>...</td>\n",
       "      <td>0.00016</td>\n",
       "      <td>0.00071</td>\n",
       "      <td>0.00067</td>\n",
       "      <td>0.00145</td>\n",
       "      <td>0.00056</td>\n",
       "      <td>0.00057</td>\n",
       "      <td>0.00071</td>\n",
       "      <td>0.00075</td>\n",
       "      <td>0.00042</td>\n",
       "      <td>NaN</td>\n",
       "    </tr>\n",
       "    <tr>\n",
       "      <td>2</td>\n",
       "      <td>Angola</td>\n",
       "      <td>NaN</td>\n",
       "      <td>NaN</td>\n",
       "      <td>NaN</td>\n",
       "      <td>NaN</td>\n",
       "      <td>NaN</td>\n",
       "      <td>NaN</td>\n",
       "      <td>NaN</td>\n",
       "      <td>NaN</td>\n",
       "      <td>NaN</td>\n",
       "      <td>...</td>\n",
       "      <td>0.00660</td>\n",
       "      <td>0.00692</td>\n",
       "      <td>0.00943</td>\n",
       "      <td>0.01160</td>\n",
       "      <td>0.01350</td>\n",
       "      <td>0.01230</td>\n",
       "      <td>0.01490</td>\n",
       "      <td>0.01430</td>\n",
       "      <td>0.01590</td>\n",
       "      <td>NaN</td>\n",
       "    </tr>\n",
       "    <tr>\n",
       "      <td>3</td>\n",
       "      <td>Argentina</td>\n",
       "      <td>NaN</td>\n",
       "      <td>NaN</td>\n",
       "      <td>NaN</td>\n",
       "      <td>NaN</td>\n",
       "      <td>NaN</td>\n",
       "      <td>NaN</td>\n",
       "      <td>NaN</td>\n",
       "      <td>NaN</td>\n",
       "      <td>NaN</td>\n",
       "      <td>...</td>\n",
       "      <td>0.08190</td>\n",
       "      <td>0.07650</td>\n",
       "      <td>0.06830</td>\n",
       "      <td>0.07560</td>\n",
       "      <td>0.08360</td>\n",
       "      <td>0.06630</td>\n",
       "      <td>0.06590</td>\n",
       "      <td>0.07270</td>\n",
       "      <td>0.07150</td>\n",
       "      <td>NaN</td>\n",
       "    </tr>\n",
       "    <tr>\n",
       "      <td>4</td>\n",
       "      <td>Armenia</td>\n",
       "      <td>NaN</td>\n",
       "      <td>NaN</td>\n",
       "      <td>NaN</td>\n",
       "      <td>NaN</td>\n",
       "      <td>NaN</td>\n",
       "      <td>NaN</td>\n",
       "      <td>NaN</td>\n",
       "      <td>NaN</td>\n",
       "      <td>NaN</td>\n",
       "      <td>...</td>\n",
       "      <td>0.04660</td>\n",
       "      <td>0.05570</td>\n",
       "      <td>0.05610</td>\n",
       "      <td>0.04970</td>\n",
       "      <td>0.05110</td>\n",
       "      <td>0.05180</td>\n",
       "      <td>0.05020</td>\n",
       "      <td>0.05630</td>\n",
       "      <td>0.07110</td>\n",
       "      <td>NaN</td>\n",
       "    </tr>\n",
       "  </tbody>\n",
       "</table>\n",
       "<p>5 rows × 53 columns</p>\n",
       "</div>"
      ],
      "text/plain": [
       "         geo  1960  1961  1962  1963  1964  1965  1966  1967  1968  ...  \\\n",
       "0    Albania   NaN   NaN   NaN   NaN   NaN   NaN   NaN   NaN   NaN  ...   \n",
       "1    Algeria   NaN   NaN   NaN   NaN   NaN   NaN   NaN   NaN   NaN  ...   \n",
       "2     Angola   NaN   NaN   NaN   NaN   NaN   NaN   NaN   NaN   NaN  ...   \n",
       "3  Argentina   NaN   NaN   NaN   NaN   NaN   NaN   NaN   NaN   NaN  ...   \n",
       "4    Armenia   NaN   NaN   NaN   NaN   NaN   NaN   NaN   NaN   NaN  ...   \n",
       "\n",
       "      2002     2003     2004     2005     2006     2007     2008     2009  \\\n",
       "0  0.09770  0.13500  0.15000  0.14700  0.14800  0.07560  0.10300  0.14000   \n",
       "1  0.00016  0.00071  0.00067  0.00145  0.00056  0.00057  0.00071  0.00075   \n",
       "2  0.00660  0.00692  0.00943  0.01160  0.01350  0.01230  0.01490  0.01430   \n",
       "3  0.08190  0.07650  0.06830  0.07560  0.08360  0.06630  0.06590  0.07270   \n",
       "4  0.04660  0.05570  0.05610  0.04970  0.05110  0.05180  0.05020  0.05630   \n",
       "\n",
       "      2010  2011  \n",
       "0  0.20300   NaN  \n",
       "1  0.00042   NaN  \n",
       "2  0.01590   NaN  \n",
       "3  0.07150   NaN  \n",
       "4  0.07110   NaN  \n",
       "\n",
       "[5 rows x 53 columns]"
      ]
     },
     "execution_count": 12,
     "metadata": {},
     "output_type": "execute_result"
    }
   ],
   "source": [
    "hydro_power1.head()"
   ]
  },
  {
   "cell_type": "markdown",
   "metadata": {},
   "source": [
    "<h3>As hydro_power doesn't have 2014 column so we have to drop this column.<h3>"
   ]
  },
  {
   "cell_type": "code",
   "execution_count": 13,
   "metadata": {},
   "outputs": [],
   "source": [
    "#Adding geo and 2014 columns to income dataframe and renaming column 2014.\n",
    "\n",
    "income = income1[['geo','2014']]\n",
    "income.rename(columns = {'2014':'income'}, inplace = True)\n"
   ]
  },
  {
   "cell_type": "code",
   "execution_count": 14,
   "metadata": {},
   "outputs": [],
   "source": [
    "#Adding geo and 2014 columns to industry dataframe and renaming column 2014.\n",
    "\n",
    "industry = industry1[['geo','2014']]\n",
    "industry.rename(columns = {'2014': 'industry'}, inplace = True)\n"
   ]
  },
  {
   "cell_type": "code",
   "execution_count": 15,
   "metadata": {},
   "outputs": [],
   "source": [
    "#Adding geo and 2014 columns to natural dataframe and renaming column 2014.\n",
    "\n",
    "natural = natural1[['geo','2014']]\n",
    "natural.rename(columns = {'2014':'natural'}, inplace = True)\n"
   ]
  },
  {
   "cell_type": "code",
   "execution_count": 16,
   "metadata": {},
   "outputs": [],
   "source": [
    "#Adding geo and 2014 columns to oil_consumption dataframe and renaming column 2014.\n",
    "\n",
    "oil_consumption = oil_consumption1[['geo','2014']]\n",
    "oil_consumption.rename(columns = {'2014': 'oil_consumption'}, inplace = True)\n"
   ]
  },
  {
   "cell_type": "code",
   "execution_count": 17,
   "metadata": {},
   "outputs": [],
   "source": [
    "#Adding geo and 2014 columns to oil_production dataframe and renaming column 2014.\n",
    "\n",
    "oil_production = oil_production1[['geo','2014']]\n",
    "oil_production.rename(columns = {'2014':'oil_production'}, inplace = True)\n"
   ]
  },
  {
   "cell_type": "code",
   "execution_count": 18,
   "metadata": {},
   "outputs": [],
   "source": [
    "#Adding geo and 2014 columns to yearly_emissions dataframe and renaming column 2014.\n",
    "\n",
    "yearly_emissions = yearly_emissions1[['geo','2014']]\n",
    "yearly_emissions.rename(columns = {'2014': 'yearly_emissions'}, inplace = True)\n"
   ]
  },
  {
   "cell_type": "markdown",
   "metadata": {},
   "source": [
    "<h3>Step3: Merging all the dataframes using 'geo' as the common column.<h3>"
   ]
  },
  {
   "cell_type": "code",
   "execution_count": 19,
   "metadata": {},
   "outputs": [],
   "source": [
    "#Making a list of all the dataframes available.\n",
    "dataframes = [co2_emissions, coal_consumption, electricity_generation, electricity_use, forest_coverage, income, industry, natural, oil_consumption, oil_production, yearly_emissions]"
   ]
  },
  {
   "cell_type": "code",
   "execution_count": 20,
   "metadata": {},
   "outputs": [],
   "source": [
    "#Combining all the dataframes in the list dataframes into one master dataframe i.e. co2_emi.\n",
    "\n",
    "co2_emi = reduce(lambda left,right : pd.merge(left,right,on = ['geo'], how = 'outer'), dataframes)"
   ]
  },
  {
   "cell_type": "code",
   "execution_count": 21,
   "metadata": {},
   "outputs": [
    {
     "data": {
      "text/html": [
       "<div>\n",
       "<style scoped>\n",
       "    .dataframe tbody tr th:only-of-type {\n",
       "        vertical-align: middle;\n",
       "    }\n",
       "\n",
       "    .dataframe tbody tr th {\n",
       "        vertical-align: top;\n",
       "    }\n",
       "\n",
       "    .dataframe thead th {\n",
       "        text-align: right;\n",
       "    }\n",
       "</style>\n",
       "<table border=\"1\" class=\"dataframe\">\n",
       "  <thead>\n",
       "    <tr style=\"text-align: right;\">\n",
       "      <th></th>\n",
       "      <th>geo</th>\n",
       "      <th>co2_emissions</th>\n",
       "      <th>coal_consumption</th>\n",
       "      <th>electricity_generation</th>\n",
       "      <th>electricity_use</th>\n",
       "      <th>forest_coverage</th>\n",
       "      <th>income</th>\n",
       "      <th>industry</th>\n",
       "      <th>natural</th>\n",
       "      <th>oil_consumption</th>\n",
       "      <th>oil_production</th>\n",
       "      <th>yearly_emissions</th>\n",
       "    </tr>\n",
       "  </thead>\n",
       "  <tbody>\n",
       "    <tr>\n",
       "      <td>0</td>\n",
       "      <td>Afghanistan</td>\n",
       "      <td>0.299</td>\n",
       "      <td>NaN</td>\n",
       "      <td>NaN</td>\n",
       "      <td>NaN</td>\n",
       "      <td>2.07</td>\n",
       "      <td>1780.0</td>\n",
       "      <td>21.10</td>\n",
       "      <td>NaN</td>\n",
       "      <td>NaN</td>\n",
       "      <td>NaN</td>\n",
       "      <td>9810.0</td>\n",
       "    </tr>\n",
       "    <tr>\n",
       "      <td>1</td>\n",
       "      <td>Albania</td>\n",
       "      <td>1.960</td>\n",
       "      <td>NaN</td>\n",
       "      <td>NaN</td>\n",
       "      <td>2310.0</td>\n",
       "      <td>28.20</td>\n",
       "      <td>10700.0</td>\n",
       "      <td>21.50</td>\n",
       "      <td>NaN</td>\n",
       "      <td>NaN</td>\n",
       "      <td>NaN</td>\n",
       "      <td>5720.0</td>\n",
       "    </tr>\n",
       "    <tr>\n",
       "      <td>2</td>\n",
       "      <td>Algeria</td>\n",
       "      <td>3.720</td>\n",
       "      <td>0.00458</td>\n",
       "      <td>1640.0</td>\n",
       "      <td>1360.0</td>\n",
       "      <td>0.82</td>\n",
       "      <td>13500.0</td>\n",
       "      <td>42.30</td>\n",
       "      <td>1.92</td>\n",
       "      <td>0.452</td>\n",
       "      <td>1.76</td>\n",
       "      <td>145000.0</td>\n",
       "    </tr>\n",
       "    <tr>\n",
       "      <td>3</td>\n",
       "      <td>Andorra</td>\n",
       "      <td>5.830</td>\n",
       "      <td>NaN</td>\n",
       "      <td>NaN</td>\n",
       "      <td>NaN</td>\n",
       "      <td>34.00</td>\n",
       "      <td>44900.0</td>\n",
       "      <td>9.91</td>\n",
       "      <td>NaN</td>\n",
       "      <td>NaN</td>\n",
       "      <td>NaN</td>\n",
       "      <td>462.0</td>\n",
       "    </tr>\n",
       "    <tr>\n",
       "      <td>4</td>\n",
       "      <td>Angola</td>\n",
       "      <td>1.290</td>\n",
       "      <td>NaN</td>\n",
       "      <td>NaN</td>\n",
       "      <td>312.0</td>\n",
       "      <td>46.50</td>\n",
       "      <td>6260.0</td>\n",
       "      <td>NaN</td>\n",
       "      <td>NaN</td>\n",
       "      <td>NaN</td>\n",
       "      <td>3.08</td>\n",
       "      <td>34800.0</td>\n",
       "    </tr>\n",
       "  </tbody>\n",
       "</table>\n",
       "</div>"
      ],
      "text/plain": [
       "           geo  co2_emissions  coal_consumption  electricity_generation  \\\n",
       "0  Afghanistan          0.299               NaN                     NaN   \n",
       "1      Albania          1.960               NaN                     NaN   \n",
       "2      Algeria          3.720           0.00458                  1640.0   \n",
       "3      Andorra          5.830               NaN                     NaN   \n",
       "4       Angola          1.290               NaN                     NaN   \n",
       "\n",
       "   electricity_use  forest_coverage   income  industry  natural  \\\n",
       "0              NaN             2.07   1780.0     21.10      NaN   \n",
       "1           2310.0            28.20  10700.0     21.50      NaN   \n",
       "2           1360.0             0.82  13500.0     42.30     1.92   \n",
       "3              NaN            34.00  44900.0      9.91      NaN   \n",
       "4            312.0            46.50   6260.0       NaN      NaN   \n",
       "\n",
       "   oil_consumption  oil_production  yearly_emissions  \n",
       "0              NaN             NaN            9810.0  \n",
       "1              NaN             NaN            5720.0  \n",
       "2            0.452            1.76          145000.0  \n",
       "3              NaN             NaN             462.0  \n",
       "4              NaN            3.08           34800.0  "
      ]
     },
     "execution_count": 21,
     "metadata": {},
     "output_type": "execute_result"
    }
   ],
   "source": [
    "co2_emi.head()"
   ]
  },
  {
   "cell_type": "code",
   "execution_count": 22,
   "metadata": {},
   "outputs": [
    {
     "data": {
      "text/plain": [
       "194"
      ]
     },
     "execution_count": 22,
     "metadata": {},
     "output_type": "execute_result"
    }
   ],
   "source": [
    "co2_emi.geo.nunique()"
   ]
  },
  {
   "cell_type": "code",
   "execution_count": 23,
   "metadata": {},
   "outputs": [
    {
     "name": "stdout",
     "output_type": "stream",
     "text": [
      "<class 'pandas.core.frame.DataFrame'>\n",
      "Int64Index: 194 entries, 0 to 193\n",
      "Data columns (total 12 columns):\n",
      "geo                       194 non-null object\n",
      "co2_emissions             192 non-null float64\n",
      "coal_consumption          65 non-null float64\n",
      "electricity_generation    65 non-null float64\n",
      "electricity_use           137 non-null float64\n",
      "forest_coverage           191 non-null float64\n",
      "income                    193 non-null float64\n",
      "industry                  183 non-null float64\n",
      "natural                   49 non-null float64\n",
      "oil_consumption           65 non-null float64\n",
      "oil_production            49 non-null float64\n",
      "yearly_emissions          192 non-null float64\n",
      "dtypes: float64(11), object(1)\n",
      "memory usage: 19.7+ KB\n"
     ]
    }
   ],
   "source": [
    "co2_emi.info()"
   ]
  },
  {
   "cell_type": "markdown",
   "metadata": {},
   "source": [
    "<h3>Treating missing values<h3>"
   ]
  },
  {
   "cell_type": "code",
   "execution_count": 24,
   "metadata": {},
   "outputs": [
    {
     "data": {
      "text/plain": [
       "geo                        0.00\n",
       "co2_emissions              1.03\n",
       "coal_consumption          66.49\n",
       "electricity_generation    66.49\n",
       "electricity_use           29.38\n",
       "forest_coverage            1.55\n",
       "income                     0.52\n",
       "industry                   5.67\n",
       "natural                   74.74\n",
       "oil_consumption           66.49\n",
       "oil_production            74.74\n",
       "yearly_emissions           1.03\n",
       "dtype: float64"
      ]
     },
     "execution_count": 24,
     "metadata": {},
     "output_type": "execute_result"
    }
   ],
   "source": [
    "#Finding the percentage of missing values in the columns of co2_emi.\n",
    "co2_emi.isna().mean().round(4)*100"
   ]
  },
  {
   "cell_type": "code",
   "execution_count": 25,
   "metadata": {},
   "outputs": [],
   "source": [
    "#Dropping the columns with missing values percentage >40%.\n",
    "co2_emi.drop(['coal_consumption','electricity_generation', 'natural', 'oil_consumption', 'oil_production'], axis = 1, inplace = True)"
   ]
  },
  {
   "cell_type": "code",
   "execution_count": 26,
   "metadata": {},
   "outputs": [],
   "source": [
    "#Filling the missing values in co2_emissions, electricity_use, forst_coverage, income, industry, yearly_emissions columns\n",
    "#by the mean value.\n",
    "co2_emi.fillna(co2_emi.mean(), inplace = True)"
   ]
  },
  {
   "cell_type": "code",
   "execution_count": 27,
   "metadata": {},
   "outputs": [
    {
     "data": {
      "text/plain": [
       "geo                 0.0\n",
       "co2_emissions       0.0\n",
       "electricity_use     0.0\n",
       "forest_coverage     0.0\n",
       "income              0.0\n",
       "industry            0.0\n",
       "yearly_emissions    0.0\n",
       "dtype: float64"
      ]
     },
     "execution_count": 27,
     "metadata": {},
     "output_type": "execute_result"
    }
   ],
   "source": [
    "#Again checking the missing value percentage.\n",
    "co2_emi.isna().mean().round(4)*100"
   ]
  },
  {
   "cell_type": "code",
   "execution_count": 28,
   "metadata": {},
   "outputs": [
    {
     "data": {
      "image/png": "[encoded data removed]",
      "text/plain": [
       "<Figure size 1260x180 with 7 Axes>"
      ]
     },
     "metadata": {
      "needs_background": "light"
     },
     "output_type": "display_data"
    }
   ],
   "source": [
    "#Making pairplot for our target variable versus all other variables.\n",
    "pp = sns.pairplot(data = co2_emi, y_vars=['co2_emissions'], x_vars= co2_emi.columns)"
   ]
  },
  {
   "cell_type": "code",
   "execution_count": 29,
   "metadata": {},
   "outputs": [],
   "source": [
    "#Treating outliers that are possible.\n",
    "co2_emi = co2_emi[co2_emi.income<100000]\n",
    "co2_emi = co2_emi[co2_emi.electricity_use<40000]"
   ]
  },
  {
   "cell_type": "code",
   "execution_count": 30,
   "metadata": {},
   "outputs": [
    {
     "data": {
      "image/png": "[encoded data removed]",
      "text/plain": [
       "<Figure size 1260x180 with 7 Axes>"
      ]
     },
     "metadata": {
      "needs_background": "light"
     },
     "output_type": "display_data"
    }
   ],
   "source": [
    "pp = sns.pairplot(data = co2_emi, y_vars=['co2_emissions'], x_vars= co2_emi.columns)\n"
   ]
  },
  {
   "cell_type": "code",
   "execution_count": 31,
   "metadata": {},
   "outputs": [
    {
     "data": {
      "image/png": "[encoded data removed]",
      "text/plain": [
       "<Figure size 432x288 with 2 Axes>"
      ]
     },
     "metadata": {
      "needs_background": "light"
     },
     "output_type": "display_data"
    }
   ],
   "source": [
    "#Heatmap for the correlation between the variables.\n",
    "plt.figuresize = (20,15)\n",
    "sns.heatmap(co2_emi.corr(), cmap = 'YlGnBu', annot = True)\n",
    "plt.show()"
   ]
  },
  {
   "cell_type": "code",
   "execution_count": 32,
   "metadata": {},
   "outputs": [],
   "source": [
    "#Dropping the categorical variable 'geo'.\n",
    "co2_emi.drop(['geo'], axis = 1, inplace = True )"
   ]
  },
  {
   "cell_type": "markdown",
   "metadata": {},
   "source": [
    "<h3>Step4: Splitting the data into train and test data.<h3>"
   ]
  },
  {
   "cell_type": "code",
   "execution_count": 33,
   "metadata": {},
   "outputs": [],
   "source": [
    "#Spliting the data into train (df_train) and test (df_test) data.\n",
    "from sklearn.model_selection import train_test_split\n",
    "\n",
    "df_train, df_test = train_test_split(co2_emi, train_size = 0.70, test_size = 0.30, random_state = 100)"
   ]
  },
  {
   "cell_type": "code",
   "execution_count": 34,
   "metadata": {},
   "outputs": [],
   "source": [
    "#Using MinMaxScaler for scaling the co2_emi dataframe. \n",
    "from sklearn.preprocessing import MinMaxScaler\n",
    "scaler = MinMaxScaler()"
   ]
  },
  {
   "cell_type": "code",
   "execution_count": 35,
   "metadata": {},
   "outputs": [
    {
     "data": {
      "text/plain": [
       "Index(['co2_emissions', 'electricity_use', 'forest_coverage', 'income',\n",
       "       'industry', 'yearly_emissions'],\n",
       "      dtype='object')"
      ]
     },
     "execution_count": 35,
     "metadata": {},
     "output_type": "execute_result"
    }
   ],
   "source": [
    "co2_emi.columns"
   ]
  },
  {
   "cell_type": "code",
   "execution_count": 36,
   "metadata": {},
   "outputs": [],
   "source": [
    "num_var = co2_emi.columns"
   ]
  },
  {
   "cell_type": "code",
   "execution_count": 37,
   "metadata": {},
   "outputs": [
    {
     "data": {
      "text/html": [
       "<div>\n",
       "<style scoped>\n",
       "    .dataframe tbody tr th:only-of-type {\n",
       "        vertical-align: middle;\n",
       "    }\n",
       "\n",
       "    .dataframe tbody tr th {\n",
       "        vertical-align: top;\n",
       "    }\n",
       "\n",
       "    .dataframe thead th {\n",
       "        text-align: right;\n",
       "    }\n",
       "</style>\n",
       "<table border=\"1\" class=\"dataframe\">\n",
       "  <thead>\n",
       "    <tr style=\"text-align: right;\">\n",
       "      <th></th>\n",
       "      <th>co2_emissions</th>\n",
       "      <th>electricity_use</th>\n",
       "      <th>forest_coverage</th>\n",
       "      <th>income</th>\n",
       "      <th>industry</th>\n",
       "      <th>yearly_emissions</th>\n",
       "    </tr>\n",
       "  </thead>\n",
       "  <tbody>\n",
       "    <tr>\n",
       "      <td>93</td>\n",
       "      <td>0.032367</td>\n",
       "      <td>0.215460</td>\n",
       "      <td>0.016073</td>\n",
       "      <td>0.024304</td>\n",
       "      <td>0.385475</td>\n",
       "      <td>0.000239</td>\n",
       "    </tr>\n",
       "    <tr>\n",
       "      <td>75</td>\n",
       "      <td>0.049348</td>\n",
       "      <td>0.039211</td>\n",
       "      <td>0.241099</td>\n",
       "      <td>0.058612</td>\n",
       "      <td>0.335816</td>\n",
       "      <td>0.217475</td>\n",
       "    </tr>\n",
       "    <tr>\n",
       "      <td>76</td>\n",
       "      <td>0.051983</td>\n",
       "      <td>0.039517</td>\n",
       "      <td>0.514751</td>\n",
       "      <td>0.116546</td>\n",
       "      <td>0.556176</td>\n",
       "      <td>0.045048</td>\n",
       "    </tr>\n",
       "    <tr>\n",
       "      <td>150</td>\n",
       "      <td>0.164117</td>\n",
       "      <td>0.260774</td>\n",
       "      <td>0.409969</td>\n",
       "      <td>0.332697</td>\n",
       "      <td>0.391682</td>\n",
       "      <td>0.002980</td>\n",
       "    </tr>\n",
       "    <tr>\n",
       "      <td>83</td>\n",
       "      <td>0.275958</td>\n",
       "      <td>0.397781</td>\n",
       "      <td>0.696846</td>\n",
       "      <td>0.459622</td>\n",
       "      <td>0.335816</td>\n",
       "      <td>0.117475</td>\n",
       "    </tr>\n",
       "  </tbody>\n",
       "</table>\n",
       "</div>"
      ],
      "text/plain": [
       "     co2_emissions  electricity_use  forest_coverage    income  industry  \\\n",
       "93        0.032367         0.215460         0.016073  0.024304  0.385475   \n",
       "75        0.049348         0.039211         0.241099  0.058612  0.335816   \n",
       "76        0.051983         0.039517         0.514751  0.116546  0.556176   \n",
       "150       0.164117         0.260774         0.409969  0.332697  0.391682   \n",
       "83        0.275958         0.397781         0.696846  0.459622  0.335816   \n",
       "\n",
       "     yearly_emissions  \n",
       "93           0.000239  \n",
       "75           0.217475  \n",
       "76           0.045048  \n",
       "150          0.002980  \n",
       "83           0.117475  "
      ]
     },
     "execution_count": 37,
     "metadata": {},
     "output_type": "execute_result"
    }
   ],
   "source": [
    "df_train[num_var] = scaler.fit_transform(df_train[num_var])\n",
    "df_train.head()"
   ]
  },
  {
   "cell_type": "code",
   "execution_count": 38,
   "metadata": {},
   "outputs": [],
   "source": [
    "#Assing our target variable to y_train and other independent variables to X_train.\n",
    "y_train = df_train.pop('co2_emissions')\n",
    "X_train = df_train"
   ]
  },
  {
   "cell_type": "code",
   "execution_count": 39,
   "metadata": {},
   "outputs": [],
   "source": [
    "from sklearn import linear_model\n",
    "from sklearn.linear_model import LinearRegression\n",
    "from sklearn.linear_model import Lasso\n",
    "from sklearn.model_selection import GridSearchCV\n",
    "import os\n",
    "\n"
   ]
  },
  {
   "cell_type": "markdown",
   "metadata": {},
   "source": [
    "<h3>Step5: Model Building using Lasso<h3>"
   ]
  },
  {
   "cell_type": "code",
   "execution_count": 40,
   "metadata": {},
   "outputs": [
    {
     "name": "stdout",
     "output_type": "stream",
     "text": [
      "Fitting 5 folds for each of 28 candidates, totalling 140 fits\n"
     ]
    },
    {
     "name": "stderr",
     "output_type": "stream",
     "text": [
      "[Parallel(n_jobs=1)]: Using backend SequentialBackend with 1 concurrent workers.\n",
      "[Parallel(n_jobs=1)]: Done 140 out of 140 | elapsed:    0.7s finished\n"
     ]
    },
    {
     "data": {
      "text/plain": [
       "GridSearchCV(cv=5, error_score='raise-deprecating',\n",
       "             estimator=Lasso(alpha=1.0, copy_X=True, fit_intercept=True,\n",
       "                             max_iter=1000, normalize=False, positive=False,\n",
       "                             precompute=False, random_state=None,\n",
       "                             selection='cyclic', tol=0.0001, warm_start=False),\n",
       "             iid='warn', n_jobs=None,\n",
       "             param_grid={'alpha': [0.0001, 0.001, 0.01, 0.05, 0.1, 0.2, 0.3,\n",
       "                                   0.4, 0.5, 0.6, 0.7, 0.8, 0.9, 1.0, 2.0, 3.0,\n",
       "                                   4.0, 5.0, 6.0, 7.0, 8.0, 9.0, 10.0, 20, 50,\n",
       "                                   100, 500, 1000]},\n",
       "             pre_dispatch='2*n_jobs', refit=True, return_train_score=True,\n",
       "             scoring='neg_mean_absolute_error', verbose=1)"
      ]
     },
     "execution_count": 40,
     "metadata": {},
     "output_type": "execute_result"
    }
   ],
   "source": [
    "# list of alphas to tune\n",
    "params = {'alpha': [0.0001, 0.001, 0.01, 0.05, 0.1, \n",
    " 0.2, 0.3, 0.4, 0.5, 0.6, 0.7, 0.8, 0.9, 1.0, 2.0, 3.0, \n",
    " 4.0, 5.0, 6.0, 7.0, 8.0, 9.0, 10.0, 20, 50, 100, 500, 1000 ]}\n",
    "\n",
    "lasso = Lasso()\n",
    "\n",
    "# cross validation\n",
    "folds = 5\n",
    "model_cv = GridSearchCV(estimator = lasso, \n",
    "                        param_grid = params, \n",
    "                        scoring= 'neg_mean_absolute_error', \n",
    "                        cv = folds, \n",
    "                        return_train_score=True,\n",
    "                        verbose = 1)            \n",
    "\n",
    "model_cv.fit(X_train, y_train) "
   ]
  },
  {
   "cell_type": "code",
   "execution_count": 41,
   "metadata": {},
   "outputs": [
    {
     "data": {
      "text/html": [
       "<div>\n",
       "<style scoped>\n",
       "    .dataframe tbody tr th:only-of-type {\n",
       "        vertical-align: middle;\n",
       "    }\n",
       "\n",
       "    .dataframe tbody tr th {\n",
       "        vertical-align: top;\n",
       "    }\n",
       "\n",
       "    .dataframe thead th {\n",
       "        text-align: right;\n",
       "    }\n",
       "</style>\n",
       "<table border=\"1\" class=\"dataframe\">\n",
       "  <thead>\n",
       "    <tr style=\"text-align: right;\">\n",
       "      <th></th>\n",
       "      <th>mean_fit_time</th>\n",
       "      <th>std_fit_time</th>\n",
       "      <th>mean_score_time</th>\n",
       "      <th>std_score_time</th>\n",
       "      <th>param_alpha</th>\n",
       "      <th>params</th>\n",
       "      <th>split0_test_score</th>\n",
       "      <th>split1_test_score</th>\n",
       "      <th>split2_test_score</th>\n",
       "      <th>split3_test_score</th>\n",
       "      <th>...</th>\n",
       "      <th>mean_test_score</th>\n",
       "      <th>std_test_score</th>\n",
       "      <th>rank_test_score</th>\n",
       "      <th>split0_train_score</th>\n",
       "      <th>split1_train_score</th>\n",
       "      <th>split2_train_score</th>\n",
       "      <th>split3_train_score</th>\n",
       "      <th>split4_train_score</th>\n",
       "      <th>mean_train_score</th>\n",
       "      <th>std_train_score</th>\n",
       "    </tr>\n",
       "  </thead>\n",
       "  <tbody>\n",
       "    <tr>\n",
       "      <td>0</td>\n",
       "      <td>0.002397</td>\n",
       "      <td>0.001002</td>\n",
       "      <td>0.000798</td>\n",
       "      <td>0.000399</td>\n",
       "      <td>0.0001</td>\n",
       "      <td>{'alpha': 0.0001}</td>\n",
       "      <td>-0.047688</td>\n",
       "      <td>-0.090053</td>\n",
       "      <td>-0.047380</td>\n",
       "      <td>-0.038802</td>\n",
       "      <td>...</td>\n",
       "      <td>-0.055974</td>\n",
       "      <td>0.017948</td>\n",
       "      <td>2</td>\n",
       "      <td>-0.053512</td>\n",
       "      <td>-0.045299</td>\n",
       "      <td>-0.054379</td>\n",
       "      <td>-0.056182</td>\n",
       "      <td>-0.053205</td>\n",
       "      <td>-0.052515</td>\n",
       "      <td>0.003754</td>\n",
       "    </tr>\n",
       "    <tr>\n",
       "      <td>1</td>\n",
       "      <td>0.000000</td>\n",
       "      <td>0.000000</td>\n",
       "      <td>0.003116</td>\n",
       "      <td>0.006232</td>\n",
       "      <td>0.001</td>\n",
       "      <td>{'alpha': 0.001}</td>\n",
       "      <td>-0.049289</td>\n",
       "      <td>-0.081236</td>\n",
       "      <td>-0.046821</td>\n",
       "      <td>-0.036862</td>\n",
       "      <td>...</td>\n",
       "      <td>-0.054222</td>\n",
       "      <td>0.015007</td>\n",
       "      <td>1</td>\n",
       "      <td>-0.053787</td>\n",
       "      <td>-0.045588</td>\n",
       "      <td>-0.055194</td>\n",
       "      <td>-0.056868</td>\n",
       "      <td>-0.053550</td>\n",
       "      <td>-0.052998</td>\n",
       "      <td>0.003889</td>\n",
       "    </tr>\n",
       "    <tr>\n",
       "      <td>2</td>\n",
       "      <td>0.003131</td>\n",
       "      <td>0.006263</td>\n",
       "      <td>0.000000</td>\n",
       "      <td>0.000000</td>\n",
       "      <td>0.01</td>\n",
       "      <td>{'alpha': 0.01}</td>\n",
       "      <td>-0.076770</td>\n",
       "      <td>-0.095384</td>\n",
       "      <td>-0.059590</td>\n",
       "      <td>-0.046925</td>\n",
       "      <td>...</td>\n",
       "      <td>-0.071193</td>\n",
       "      <td>0.016667</td>\n",
       "      <td>3</td>\n",
       "      <td>-0.071252</td>\n",
       "      <td>-0.059790</td>\n",
       "      <td>-0.070507</td>\n",
       "      <td>-0.074889</td>\n",
       "      <td>-0.070222</td>\n",
       "      <td>-0.069332</td>\n",
       "      <td>0.005055</td>\n",
       "    </tr>\n",
       "    <tr>\n",
       "      <td>3</td>\n",
       "      <td>0.003125</td>\n",
       "      <td>0.006249</td>\n",
       "      <td>0.000000</td>\n",
       "      <td>0.000000</td>\n",
       "      <td>0.05</td>\n",
       "      <td>{'alpha': 0.05}</td>\n",
       "      <td>-0.121692</td>\n",
       "      <td>-0.123114</td>\n",
       "      <td>-0.103560</td>\n",
       "      <td>-0.099425</td>\n",
       "      <td>...</td>\n",
       "      <td>-0.113196</td>\n",
       "      <td>0.009824</td>\n",
       "      <td>4</td>\n",
       "      <td>-0.106691</td>\n",
       "      <td>-0.105675</td>\n",
       "      <td>-0.116249</td>\n",
       "      <td>-0.121112</td>\n",
       "      <td>-0.105523</td>\n",
       "      <td>-0.111050</td>\n",
       "      <td>0.006430</td>\n",
       "    </tr>\n",
       "    <tr>\n",
       "      <td>4</td>\n",
       "      <td>0.000000</td>\n",
       "      <td>0.000000</td>\n",
       "      <td>0.000000</td>\n",
       "      <td>0.000000</td>\n",
       "      <td>0.1</td>\n",
       "      <td>{'alpha': 0.1}</td>\n",
       "      <td>-0.121692</td>\n",
       "      <td>-0.123114</td>\n",
       "      <td>-0.103560</td>\n",
       "      <td>-0.099425</td>\n",
       "      <td>...</td>\n",
       "      <td>-0.113196</td>\n",
       "      <td>0.009824</td>\n",
       "      <td>4</td>\n",
       "      <td>-0.106691</td>\n",
       "      <td>-0.105675</td>\n",
       "      <td>-0.116249</td>\n",
       "      <td>-0.121112</td>\n",
       "      <td>-0.105523</td>\n",
       "      <td>-0.111050</td>\n",
       "      <td>0.006430</td>\n",
       "    </tr>\n",
       "  </tbody>\n",
       "</table>\n",
       "<p>5 rows × 21 columns</p>\n",
       "</div>"
      ],
      "text/plain": [
       "   mean_fit_time  std_fit_time  mean_score_time  std_score_time param_alpha  \\\n",
       "0       0.002397      0.001002         0.000798        0.000399      0.0001   \n",
       "1       0.000000      0.000000         0.003116        0.006232       0.001   \n",
       "2       0.003131      0.006263         0.000000        0.000000        0.01   \n",
       "3       0.003125      0.006249         0.000000        0.000000        0.05   \n",
       "4       0.000000      0.000000         0.000000        0.000000         0.1   \n",
       "\n",
       "              params  split0_test_score  split1_test_score  split2_test_score  \\\n",
       "0  {'alpha': 0.0001}          -0.047688          -0.090053          -0.047380   \n",
       "1   {'alpha': 0.001}          -0.049289          -0.081236          -0.046821   \n",
       "2    {'alpha': 0.01}          -0.076770          -0.095384          -0.059590   \n",
       "3    {'alpha': 0.05}          -0.121692          -0.123114          -0.103560   \n",
       "4     {'alpha': 0.1}          -0.121692          -0.123114          -0.103560   \n",
       "\n",
       "   split3_test_score  ...  mean_test_score  std_test_score  rank_test_score  \\\n",
       "0          -0.038802  ...        -0.055974        0.017948                2   \n",
       "1          -0.036862  ...        -0.054222        0.015007                1   \n",
       "2          -0.046925  ...        -0.071193        0.016667                3   \n",
       "3          -0.099425  ...        -0.113196        0.009824                4   \n",
       "4          -0.099425  ...        -0.113196        0.009824                4   \n",
       "\n",
       "   split0_train_score  split1_train_score  split2_train_score  \\\n",
       "0           -0.053512           -0.045299           -0.054379   \n",
       "1           -0.053787           -0.045588           -0.055194   \n",
       "2           -0.071252           -0.059790           -0.070507   \n",
       "3           -0.106691           -0.105675           -0.116249   \n",
       "4           -0.106691           -0.105675           -0.116249   \n",
       "\n",
       "   split3_train_score  split4_train_score  mean_train_score  std_train_score  \n",
       "0           -0.056182           -0.053205         -0.052515         0.003754  \n",
       "1           -0.056868           -0.053550         -0.052998         0.003889  \n",
       "2           -0.074889           -0.070222         -0.069332         0.005055  \n",
       "3           -0.121112           -0.105523         -0.111050         0.006430  \n",
       "4           -0.121112           -0.105523         -0.111050         0.006430  \n",
       "\n",
       "[5 rows x 21 columns]"
      ]
     },
     "execution_count": 41,
     "metadata": {},
     "output_type": "execute_result"
    }
   ],
   "source": [
    "cv_results = pd.DataFrame(model_cv.cv_results_)\n",
    "cv_results.head()"
   ]
  },
  {
   "cell_type": "code",
   "execution_count": 42,
   "metadata": {},
   "outputs": [
    {
     "data": {
      "image/png": "[encoded data removed]",
      "text/plain": [
       "<Figure size 432x288 with 1 Axes>"
      ]
     },
     "metadata": {
      "needs_background": "light"
     },
     "output_type": "display_data"
    }
   ],
   "source": [
    "# plotting mean test and train scoes with alpha \n",
    "cv_results['param_alpha'] = cv_results['param_alpha'].astype('float32')\n",
    "\n",
    "# plotting\n",
    "plt.plot(cv_results['param_alpha'], cv_results['mean_train_score'])\n",
    "plt.plot(cv_results['param_alpha'], cv_results['mean_test_score'])\n",
    "plt.xlabel('alpha')\n",
    "plt.ylabel('Negative Mean Absolute Error')\n",
    "\n",
    "plt.title(\"Negative Mean Absolute Error and alpha\")\n",
    "plt.legend(['train score', 'test score'], loc='upper left')\n",
    "plt.show()"
   ]
  },
  {
   "cell_type": "markdown",
   "metadata": {},
   "source": [
    "<h3>Step6: Optimal value of alpha.<h3>"
   ]
  },
  {
   "cell_type": "code",
   "execution_count": 43,
   "metadata": {},
   "outputs": [
    {
     "data": {
      "text/plain": [
       "{'alpha': 0.001}"
      ]
     },
     "execution_count": 43,
     "metadata": {},
     "output_type": "execute_result"
    }
   ],
   "source": [
    "#Finding the Optimal value of alpha\n",
    "model_cv.best_params_"
   ]
  },
  {
   "cell_type": "code",
   "execution_count": 44,
   "metadata": {},
   "outputs": [
    {
     "data": {
      "text/plain": [
       "Lasso(alpha=0.001, copy_X=True, fit_intercept=True, max_iter=1000,\n",
       "      normalize=False, positive=False, precompute=False, random_state=None,\n",
       "      selection='cyclic', tol=0.0001, warm_start=False)"
      ]
     },
     "execution_count": 44,
     "metadata": {},
     "output_type": "execute_result"
    }
   ],
   "source": [
    "alpha = 0.001\n",
    "lasso = Lasso(alpha = alpha)\n",
    "lasso.fit(X_train, y_train)"
   ]
  },
  {
   "cell_type": "code",
   "execution_count": 45,
   "metadata": {},
   "outputs": [],
   "source": [
    "lasso_coeffs = lasso.coef_"
   ]
  },
  {
   "cell_type": "code",
   "execution_count": 46,
   "metadata": {},
   "outputs": [],
   "source": [
    "#Assigning the dependent variable to y_test and independent variables to X_text.\n",
    "y_test = df_test.pop('co2_emissions')\n",
    "X_test = df_test"
   ]
  },
  {
   "cell_type": "code",
   "execution_count": 47,
   "metadata": {},
   "outputs": [],
   "source": [
    "y_predict = lasso.predict(X_test)"
   ]
  },
  {
   "cell_type": "markdown",
   "metadata": {},
   "source": [
    "<h3>Step7: Scatter plot between y_test (actual)  Vs  y_predict (predicted) data.<h3>"
   ]
  },
  {
   "cell_type": "code",
   "execution_count": 48,
   "metadata": {},
   "outputs": [
    {
     "data": {
      "text/plain": [
       "<matplotlib.collections.PathCollection at 0x16897d53708>"
      ]
     },
     "execution_count": 48,
     "metadata": {},
     "output_type": "execute_result"
    },
    {
     "data": {
      "image/png": "[encoded data removed]",
      "text/plain": [
       "<Figure size 432x288 with 1 Axes>"
      ]
     },
     "metadata": {
      "needs_background": "light"
     },
     "output_type": "display_data"
    }
   ],
   "source": [
    "plt.scatter(y_test, y_predict)"
   ]
  },
  {
   "cell_type": "code",
   "execution_count": null,
   "metadata": {},
   "outputs": [],
   "source": []
  }
 ],
 "metadata": {
  "kernelspec": {
   "display_name": "Python 3",
   "language": "python",
   "name": "python3"
  },
  "language_info": {
   "codemirror_mode": {
    "name": "ipython",
    "version": 3
   },
   "file_extension": ".py",
   "mimetype": "text/x-python",
   "name": "python",
   "nbconvert_exporter": "python",
   "pygments_lexer": "ipython3",
   "version": "3.7.4"
  }
 },
 "nbformat": 4,
 "nbformat_minor": 2
}
